{
 "cells": [
  {
   "cell_type": "markdown",
   "metadata": {},
   "source": [
    "# Preprocessing and keyword extracting on WSJ Headlines since 2023/03/01 #"
   ]
  },
  {
   "cell_type": "markdown",
   "metadata": {},
   "source": [
    "### `Danial Gharib : 400105155` ###\n",
    "### `Natural Language Processing` , `Prof: Dr.Ehsan Asgari` ####"
   ]
  },
  {
   "cell_type": "markdown",
   "metadata": {},
   "source": [
    "##### Prerequisites #####"
   ]
  },
  {
   "cell_type": "code",
   "execution_count": 139,
   "metadata": {},
   "outputs": [],
   "source": [
    "# packages to be installed before running the notebook\n",
    "# !pip install nltk\n",
    "# !pip install spacy\n",
    "# !pip install yake"
   ]
  },
  {
   "cell_type": "markdown",
   "metadata": {},
   "source": [
    "### imports ###"
   ]
  },
  {
   "cell_type": "code",
   "execution_count": 38,
   "metadata": {},
   "outputs": [],
   "source": [
    "import json\n",
    "import numpy as np\n",
    "import random\n",
    "from datetime import datetime\n",
    "import re\n",
    "import nltk"
   ]
  },
  {
   "cell_type": "markdown",
   "metadata": {},
   "source": [
    "### Some info about crawled data ###\n",
    "\n",
    "The data has been gathered by crawling Wall Street Journal's website and it's archives since 2023/03/01 up to 2024/03/31. The data structure only contains the news headline and its type and release time but not all the news description and article itself. And has been stored in unprocessed folder in WSJ_headlines.json file. The code for crawling the data can be found in crawl.py"
   ]
  },
  {
   "cell_type": "markdown",
   "metadata": {},
   "source": [
    "### Loading unprocessed data ###"
   ]
  },
  {
   "cell_type": "code",
   "execution_count": 2,
   "metadata": {},
   "outputs": [],
   "source": [
    "with open('unprocessed/WSJ_headlines.json', 'r') as file:\n",
    "    unprocessed_data = json.load(file)"
   ]
  },
  {
   "cell_type": "code",
   "execution_count": 9,
   "metadata": {},
   "outputs": [],
   "source": [
    "# now extracting only headlines\n",
    "unprocessed_headlines = []\n",
    "for dict_of_the_day in unprocessed_data:\n",
    "    today_headlines_dict = dict_of_the_day['headlines']\n",
    "    for headlines_dict in today_headlines_dict:\n",
    "        unprocessed_headlines.append(headlines_dict['headline title'])"
   ]
  },
  {
   "cell_type": "markdown",
   "metadata": {},
   "source": [
    "now we randomly select some headlines and display them :"
   ]
  },
  {
   "cell_type": "code",
   "execution_count": 16,
   "metadata": {},
   "outputs": [
    {
     "name": "stdout",
     "output_type": "stream",
     "text": [
      "The Paper-Thin Steel Needed to Power Electric Cars Is in Short Supply\n",
      "‘Ashoka’ Review: Conquer First, Enlighten Later\n",
      "Xi Jinping, EU Officials Seek to Ease Economic Tensions at Summit\n",
      "‘August Wilson’ Review: Staging the Blues\n",
      "First Republic Bank Shares Sink More Than 40% After Earnings Report\n",
      "From Zero to Hero\n",
      "Private Equity Firms Return—Tentatively—to Debt-Fueled Payouts\n",
      "‘Making Her Mark’ and ‘Remix: The Collection’ Review: Centuries of Creative Women\n",
      "Widespread Drought Creates Winners and Losers in U.S. Agriculture\n",
      "U.K. Inflation Falls More than Expected\n"
     ]
    }
   ],
   "source": [
    "random_headlines = random.sample(unprocessed_headlines, 10)\n",
    "for headline in random_headlines:\n",
    "    print(headline)"
   ]
  },
  {
   "cell_type": "markdown",
   "metadata": {},
   "source": [
    "### Basic properties of the data ###\n",
    "\n",
    "In this section we see some basic properties and facts about the data like the number of headlines, avg number of words per sentence, etc."
   ]
  },
  {
   "cell_type": "code",
   "execution_count": 39,
   "metadata": {},
   "outputs": [
    {
     "name": "stderr",
     "output_type": "stream",
     "text": [
      "[nltk_data] Downloading package punkt to\n",
      "[nltk_data]     C:\\Users\\daniyal\\AppData\\Roaming\\nltk_data...\n",
      "[nltk_data]   Package punkt is already up-to-date!\n"
     ]
    }
   ],
   "source": [
    "nltk.download('punkt')\n",
    "from nltk.tokenize import sent_tokenize"
   ]
  },
  {
   "cell_type": "code",
   "execution_count": 44,
   "metadata": {},
   "outputs": [
    {
     "name": "stdout",
     "output_type": "stream",
     "text": [
      "Number of headlines : 30634\n",
      "Number of days from 2023/03/01 to 2024/03/31 is : 396\n",
      "Average news headlines per day : 77.35858585858585\n",
      "Number of words : 270565\n",
      "Number of unique words : 36023\n",
      "Average word length is : 5.300811265315174\n",
      "Number of sentences overall : 33277\n",
      "Average number of sentences per news headline : 1.0862766860351243\n",
      "Average sentence length in characters is : 50.231721609520086\n",
      "Average headline length in characters is : 54.565548083828425\n",
      "Longest word is : Townhouse-Turned-Montessori\n",
      "Longest headline is : Supreme Court Concludes Session With Rulings on Affirmative Action, Student Debt and Where Gay Rights and Free Speech Intersect\n",
      "Shortest headline is : Ann Lowe\n"
     ]
    }
   ],
   "source": [
    "print(f\"Number of headlines : {len(unprocessed_headlines)}\")\n",
    "start_date = datetime.strptime(\"2023/03/01\", \"%Y/%m/%d\")\n",
    "end_date = datetime.strptime(\"2024/03/31\", \"%Y/%m/%d\")\n",
    "num_days = (end_date - start_date).days\n",
    "print(f\"Number of days from 2023/03/01 to 2024/03/31 is : {num_days}\")\n",
    "print(f\"Average news headlines per day : {len(unprocessed_headlines)/num_days}\")\n",
    "all_words = []\n",
    "for headline in unprocessed_headlines:\n",
    "    words = headline.split()\n",
    "    all_words.extend(words)\n",
    "print(f\"Number of words : {len(all_words)}\")\n",
    "print(f\"Number of unique words : {len(set(all_words))}\")\n",
    "print(f\"Average word length is : {np.mean([len(word) for word in all_words])}\")\n",
    "total_characters = 0\n",
    "total_sentences = 0\n",
    "for headline in unprocessed_headlines:\n",
    "    sentences = sent_tokenize(headline)\n",
    "    total_sentences += len(sentences)\n",
    "    for sentence in sentences:\n",
    "        total_characters += len(sentence)\n",
    "\n",
    "print(f\"Number of sentences overall : {total_sentences}\")\n",
    "print(f\"Average number of sentences per news headline : {total_sentences/len(unprocessed_headlines)}\")   \n",
    "print(f\"Average sentence length in characters is : {total_characters/total_sentences}\") \n",
    "print(f\"Average headline length in characters is : {total_characters/len(unprocessed_headlines)}\")\n",
    "print(f\"Longest word is : {max(all_words, key=len)}\")\n",
    "print(f\"Longest headline is : {max(unprocessed_headlines, key=len)}\")\n",
    "print(f\"Shortest headline is : {min(unprocessed_headlines, key=len)}\")\n"
   ]
  },
  {
   "cell_type": "markdown",
   "metadata": {},
   "source": [
    "For a quick review we can see we have an average of 77.35 news every day, and also another interesting fact is average sentence length is long which indicates using more expressive and phrasal words."
   ]
  },
  {
   "cell_type": "markdown",
   "metadata": {},
   "source": [
    "### Preprocessings ###\n",
    "\n",
    "In this part we write different preprocess functions that we think may be a good choice for the type of data we have.Including lowercase conversion, stopword removals, punctuation removals. We also try stemming and lemmatization.\n",
    "Generally speaking, because news headlines' words mostly start with capital letters, it's a good option to convert them all to lowercase, also removing stopwords and punctuation can help us for extracting the keywords."
   ]
  },
  {
   "cell_type": "code",
   "execution_count": 46,
   "metadata": {},
   "outputs": [
    {
     "name": "stderr",
     "output_type": "stream",
     "text": [
      "[nltk_data] Downloading package stopwords to\n",
      "[nltk_data]     C:\\Users\\daniyal\\AppData\\Roaming\\nltk_data...\n",
      "[nltk_data]   Package stopwords is already up-to-date!\n"
     ]
    },
    {
     "data": {
      "text/plain": [
       "True"
      ]
     },
     "execution_count": 46,
     "metadata": {},
     "output_type": "execute_result"
    }
   ],
   "source": [
    "from nltk.corpus import stopwords\n",
    "from nltk.tokenize import word_tokenize\n",
    "import string\n",
    "nltk.download('stopwords')"
   ]
  },
  {
   "cell_type": "code",
   "execution_count": 118,
   "metadata": {},
   "outputs": [],
   "source": [
    "def tokenize_sents(text):\n",
    "    return nltk.sent_tokenize(text)\n",
    "\n",
    "def stopword_removal(tokenized_sents):\n",
    "    sw = [word.lower() for word in stopwords.words('english')]\n",
    "    return [[word for word in sentence if word.lower() not in sw] for sentence in tokenized_sents]\n",
    "\n",
    "def lowercase_conversion(tokenized_sents):\n",
    "    return [[word.lower() for word in sentence] for sentence in tokenized_sents]\n",
    "\n",
    "def min_length_filtering(tokenized_sents, minL = 2):\n",
    "    return [[word for word in sentence if len(word) > minL] for sentence in tokenized_sents]\n",
    "\n",
    "def punctuation_removal(tokenized_sents, punc_set=''):\n",
    "    return [[word for word in sentence if word not in (string.punctuation + punc_set)] for sentence in tokenized_sents]\n",
    "\n",
    "def word_tokenize(sentence):\n",
    "    return nltk.word_tokenize(sentence)"
   ]
  },
  {
   "cell_type": "markdown",
   "metadata": {},
   "source": [
    "Now we test the functions for first 4 headlines :"
   ]
  },
  {
   "cell_type": "code",
   "execution_count": 119,
   "metadata": {},
   "outputs": [
    {
     "name": "stdout",
     "output_type": "stream",
     "text": [
      "First 4 headlines without any preprocess : \n",
      "1)\t['Oceanfront', 'Ranch', 'Where', '‘', 'Lost', '’', 'and', '‘', 'Hawaii', 'Five-O', '’', 'Have', 'Filmed', 'Sells', 'for', '$', '36.5', 'Million']\n",
      "2)\t['Elon', 'Musk', 'Confirms', 'Mexico', 'Factory', 'Plan', 'in', 'Mapping', 'Out', 'Costly', 'Vision', 'for', 'Tesla']\n",
      "3)\t['McDonald', '’', 's', 'Directors', 'Beat', 'Sexual', 'Misconduct', 'Oversight', 'Lawsuit']\n",
      "4)\t['Biden', ',', 'House', 'Democrats', 'Plot', '2024', 'Campaign', 'Strategy', 'Focused', 'on', 'Legislative', 'Wins']\n",
      "_________________________________________\n",
      "First 4 headlines without stopwords\n",
      "1)\t['Oceanfront', 'Ranch', '‘', 'Lost', '’', '‘', 'Hawaii', 'Five-O', '’', 'Filmed', 'Sells', '$', '36.5', 'Million']\n",
      "2)\t['Elon', 'Musk', 'Confirms', 'Mexico', 'Factory', 'Plan', 'Mapping', 'Costly', 'Vision', 'Tesla']\n",
      "3)\t['McDonald', '’', 'Directors', 'Beat', 'Sexual', 'Misconduct', 'Oversight', 'Lawsuit']\n",
      "4)\t['Biden', ',', 'House', 'Democrats', 'Plot', '2024', 'Campaign', 'Strategy', 'Focused', 'Legislative', 'Wins']\n",
      "_________________________________________\n",
      "First 4 headlines in lowercase\n",
      "1)\t['oceanfront', 'ranch', 'where', '‘', 'lost', '’', 'and', '‘', 'hawaii', 'five-o', '’', 'have', 'filmed', 'sells', 'for', '$', '36.5', 'million']\n",
      "2)\t['elon', 'musk', 'confirms', 'mexico', 'factory', 'plan', 'in', 'mapping', 'out', 'costly', 'vision', 'for', 'tesla']\n",
      "3)\t['mcdonald', '’', 's', 'directors', 'beat', 'sexual', 'misconduct', 'oversight', 'lawsuit']\n",
      "4)\t['biden', ',', 'house', 'democrats', 'plot', '2024', 'campaign', 'strategy', 'focused', 'on', 'legislative', 'wins']\n",
      "_________________________________________\n",
      "First 4 headlines without punctuation\n",
      "1)\t['Oceanfront', 'Ranch', 'Where', 'Lost', 'and', 'Hawaii', 'Five-O', 'Have', 'Filmed', 'Sells', 'for', '36.5', 'Million']\n",
      "2)\t['Elon', 'Musk', 'Confirms', 'Mexico', 'Factory', 'Plan', 'in', 'Mapping', 'Out', 'Costly', 'Vision', 'for', 'Tesla']\n",
      "3)\t['McDonald', 's', 'Directors', 'Beat', 'Sexual', 'Misconduct', 'Oversight', 'Lawsuit']\n",
      "4)\t['Biden', 'House', 'Democrats', 'Plot', '2024', 'Campaign', 'Strategy', 'Focused', 'on', 'Legislative', 'Wins']\n",
      "_________________________________________\n",
      "Frist 4 headlines with word_len filter = 2\n",
      "1)\t['Oceanfront', 'Ranch', 'Where', 'Lost', 'and', 'Hawaii', 'Five-O', 'Have', 'Filmed', 'Sells', 'for', '36.5', 'Million']\n",
      "2)\t['Elon', 'Musk', 'Confirms', 'Mexico', 'Factory', 'Plan', 'Mapping', 'Out', 'Costly', 'Vision', 'for', 'Tesla']\n",
      "3)\t['McDonald', 'Directors', 'Beat', 'Sexual', 'Misconduct', 'Oversight', 'Lawsuit']\n",
      "4)\t['Biden', 'House', 'Democrats', 'Plot', '2024', 'Campaign', 'Strategy', 'Focused', 'Legislative', 'Wins']\n"
     ]
    }
   ],
   "source": [
    "first4_headlines = [tokenize_sents(headline) for headline in unprocessed_headlines[0:4]]\n",
    "first4_headlines = [word_tokenize(sent[0]) for sent in first4_headlines]\n",
    "print(\"First 4 headlines without any preprocess : \")\n",
    "for idx, headline in enumerate(first4_headlines):\n",
    "    print(f\"{idx+1})\\t{headline}\")\n",
    "print(\"_________________________________________\")\n",
    "print(\"First 4 headlines without stopwords\")\n",
    "first4_headlines_without_stopwords = stopword_removal(first4_headlines)\n",
    "for idx, headline in enumerate(first4_headlines_without_stopwords):\n",
    "        print(f\"{idx+1})\\t{headline}\")\n",
    "print(\"_________________________________________\")\n",
    "print(\"First 4 headlines in lowercase\")\n",
    "first4_headlines_lowercase = lowercase_conversion(first4_headlines)\n",
    "for idx, headline in enumerate(first4_headlines_lowercase):\n",
    "      print(f\"{idx+1})\\t{headline}\")\n",
    "print(\"_________________________________________\")\n",
    "print(\"First 4 headlines without punctuation\")\n",
    "first4_headlines_without_punctuation = punctuation_removal(first4_headlines, punc_set='’‘')\n",
    "for idx, headline in enumerate(first4_headlines_without_punctuation):\n",
    "      print(f\"{idx+1})\\t{headline}\")\n",
    "print(\"_________________________________________\")\n",
    "print(\"Frist 4 headlines with word_len filter = 2\")\n",
    "first4_headlines_min_word = min_length_filtering(first4_headlines, minL=2)\n",
    "for idx, headline in enumerate(first4_headlines_min_word):\n",
    "      print(f\"{idx+1})\\t{headline}\")"
   ]
  },
  {
   "cell_type": "markdown",
   "metadata": {},
   "source": [
    "Now we use all these preprocessings together to preprocess the whole headlines data and then store it in `preprocessed` folder\n"
   ]
  },
  {
   "cell_type": "code",
   "execution_count": 120,
   "metadata": {},
   "outputs": [],
   "source": [
    "sent_tokenized_headlines = [tokenize_sents(headline) for headline in unprocessed_headlines]\n",
    "word_tokenized_headlines = [word_tokenize(sent[0]) for sent in sent_tokenized_headlines]\n",
    "word_tokenized_headlines_preprocessed = min_length_filtering(punctuation_removal\n",
    "                                                             (lowercase_conversion(stopword_removal(word_tokenized_headlines))))\n"
   ]
  },
  {
   "cell_type": "code",
   "execution_count": 137,
   "metadata": {},
   "outputs": [],
   "source": [
    "sentence_based_headlines_preprocessed = [' '.join(words) for words in word_tokenized_headlines_preprocessed]\n",
    "with open('preprocessed/WSJ_headlines_primary_preprocess.json', 'w') as f:\n",
    "    json.dump(sentence_based_headlines_preprocessed, f, indent=2)"
   ]
  },
  {
   "cell_type": "markdown",
   "metadata": {},
   "source": [
    "### Extracting Keywords ###\n",
    "In this part we extract the keywords from the preprocessed data by using two different ways. we have used once yake and the other time using nltk library"
   ]
  },
  {
   "cell_type": "code",
   "execution_count": 151,
   "metadata": {},
   "outputs": [],
   "source": [
    "import yake"
   ]
  },
  {
   "cell_type": "code",
   "execution_count": 152,
   "metadata": {},
   "outputs": [
    {
     "name": "stdout",
     "output_type": "stream",
     "text": [
      "('review', 0.00015215269101972106)\n",
      "('china', 0.00017331219413752077)\n",
      "('biden', 0.00017335090382027187)\n",
      "('supreme court', 0.00019932880982276045)\n",
      "('trump', 0.00020253273004283373)\n",
      "('million', 0.0002702283460445138)\n",
      "('ukraine', 0.0003291318435392862)\n",
      "('billion', 0.0004212825655802113)\n",
      "('court', 0.0004264487206350933)\n",
      "('deal', 0.00043716086345647176)\n",
      "('books read week', 0.00048185522008942287)\n",
      "('bank', 0.0004888019301449431)\n",
      "('war', 0.0004963306469857272)\n",
      "('home', 0.0005165171607056401)\n",
      "('big', 0.0005266393218915296)\n",
      "('stocks', 0.0005353910117583532)\n",
      "('russia', 0.0005430121131837906)\n",
      "('america', 0.0005710020092671155)\n",
      "('israel', 0.0005786236930125554)\n",
      "('market', 0.0005798435583494741)\n"
     ]
    }
   ],
   "source": [
    "# extracting keywords using yake library\n",
    "concatenated_headlines = ' '.join([''.join(sentence) for sentence in sentence_based_headlines_preprocessed])\n",
    "keyword_extractor = yake.KeywordExtractor()\n",
    "keywords = keyword_extractor.extract_keywords(concatenated_headlines)\n",
    "for keyword in keywords:\n",
    "    print(keyword)"
   ]
  },
  {
   "cell_type": "code",
   "execution_count": 161,
   "metadata": {},
   "outputs": [
    {
     "name": "stdout",
     "output_type": "stream",
     "text": [
      "word \t freq \tprecentage\n",
      "new\t 1390 \t4.537442057844225\n",
      "review\t 1378 \t4.498269896193771\n",
      "u.s.\t 1070 \t3.492851080498792\n",
      "china\t 1037 \t3.3851276359600444\n",
      "biden\t 982 \t3.2055885617287982\n",
      "trump\t 855 \t2.791016517594829\n",
      "million\t 645 \t2.1055036887118885\n",
      "ukraine\t 589 \t1.922700267676438\n",
      "says\t 531 \t1.7333681530325782\n",
      "billion\t 479 \t1.5636221192139452\n",
      "u.s\t 452 \t1.4754847555004245\n",
      "deal\t 450 \t1.4689560618920154\n",
      "court\t 422 \t1.37755435137429\n",
      "russia\t 413 \t1.3481752301364498\n",
      "big\t 413 \t1.3481752301364498\n",
      "war\t 413 \t1.3481752301364498\n",
      "america\t 413 \t1.3481752301364498\n",
      "israel\t 406 \t1.3253248025070183\n",
      "home\t 397 \t1.295945681269178\n",
      "world\t 378 \t1.233923091989293\n"
     ]
    }
   ],
   "source": [
    "# extracting keywords using nltk\n",
    "from nltk.probability import FreqDist\n",
    "import itertools\n",
    "mp_freqdist = FreqDist(itertools.chain(*word_tokenized_headlines_preprocessed))    \n",
    "top_15 = mp_freqdist.most_common(20)\n",
    "print(\"word \\t freq \\tprecentage\")\n",
    "for word in top_15:\n",
    "    print(f\"{word[0]}\\t {word[1]} \\t{100*word[1]/len(word_tokenized_headlines_preprocessed)}\")           "
   ]
  },
  {
   "cell_type": "markdown",
   "metadata": {},
   "source": [
    "As you see we used two different approaches. One time we concatenated all of the headlines as a single text and gave it as input to yake library and extracted the keywords and another time using probablistic features of nltk library we extracted 15 most repeated words.\n",
    "\n",
    "Overall we can say both functioned well and the results are also close. They have several words in common. for example : america, russia, court, israel, review, etc."
   ]
  },
  {
   "cell_type": "markdown",
   "metadata": {},
   "source": [
    "### Checking the effect of lemmatization on the keyword extracting ###\n",
    "In this part we first lemmatize the word_tokenized_preprocessed data we had and then re-perform the keyword extracting methods we used in the previous part and try to compare the results and see if this type of preprocessing has a positive impact."
   ]
  },
  {
   "cell_type": "code",
   "execution_count": 165,
   "metadata": {},
   "outputs": [],
   "source": [
    "# first we lemmatize the words\n",
    "from nltk.stem import WordNetLemmatizer\n",
    "lemmatizer = WordNetLemmatizer()\n",
    "lemmatized_headlines = []\n",
    "for headline in word_tokenized_headlines_preprocessed:\n",
    "    lemmatized_headline = [lemmatizer.lemmatize(word) for word in headline]\n",
    "    lemmatized_headlines.append(lemmatized_headline)\n",
    "\n",
    "sentence_based_headlines_preprocessed_lemmatized = [' '.join(words) for words in lemmatized_headlines]\n",
    "\n",
    "with open('preprocessed/WSJ_headlines_preprocessed+lemmatized.json', 'w') as f:\n",
    "    json.dump(sentence_based_headlines_preprocessed_lemmatized, f, indent=2)"
   ]
  },
  {
   "cell_type": "code",
   "execution_count": 166,
   "metadata": {},
   "outputs": [
    {
     "name": "stdout",
     "output_type": "stream",
     "text": [
      "('review', 0.0001492732033452693)\n",
      "('china', 0.00017465875968029294)\n",
      "('biden', 0.00017468664699896746)\n",
      "('supreme court', 0.0002034784036062985)\n",
      "('trump', 0.00020369995741035656)\n",
      "('million', 0.0002518011244042164)\n",
      "('ukraine', 0.0003321063731301599)\n",
      "('bank', 0.0003378665219372543)\n",
      "('stock', 0.00035941021198157536)\n",
      "('billion', 0.0003789502187927458)\n",
      "('deal', 0.00038505551701880335)\n",
      "('court', 0.0004097735641890557)\n",
      "('year', 0.0004423408212799562)\n",
      "('home', 0.00044802647046883237)\n",
      "('war', 0.0004609969652245483)\n",
      "('market', 0.0004742165925631549)\n",
      "('book read week', 0.0004960815875867541)\n",
      "('big', 0.0005300134290791338)\n",
      "('russia', 0.0005476732305590448)\n",
      "('company', 0.0005548524085354267)\n"
     ]
    }
   ],
   "source": [
    "# extracting keywords using yake library\n",
    "concatenated_headlines_lemmatized = ' '.join([''.join(sentence) for sentence in sentence_based_headlines_preprocessed_lemmatized])\n",
    "keyword_extractor = yake.KeywordExtractor()\n",
    "keywords = keyword_extractor.extract_keywords(concatenated_headlines_lemmatized)\n",
    "for keyword in keywords:\n",
    "    print(keyword)"
   ]
  },
  {
   "cell_type": "markdown",
   "metadata": {},
   "source": [
    "the whole expressions together hasn't changed a lot but now the order of the words has changed. for instance words like china, trump, bank, stock have a better rank and some words are not in the list now. like israel"
   ]
  },
  {
   "cell_type": "code",
   "execution_count": 167,
   "metadata": {},
   "outputs": [
    {
     "name": "stdout",
     "output_type": "stream",
     "text": [
      "word \t freq \tprecentage\n",
      "review\t 1411 \t4.605993340732519\n",
      "new\t 1390 \t4.537442057844225\n",
      "u.s.\t 1070 \t3.492851080498792\n",
      "china\t 1037 \t3.3851276359600444\n",
      "biden\t 982 \t3.2055885617287982\n",
      "trump\t 857 \t2.7975452112032384\n",
      "million\t 698 \t2.2785140693347263\n",
      "say\t 675 \t2.203434092838023\n",
      "ukraine\t 589 \t1.922700267676438\n",
      "bank\t 545 \t1.7790690082914409\n",
      "billion\t 537 \t1.752954233857805\n",
      "stock\t 527 \t1.7203107658157604\n",
      "deal\t 516 \t1.684402950969511\n",
      "year\t 473 \t1.5440360383887184\n",
      "get\t 464 \t1.5146569171508781\n",
      "home\t 462 \t1.5081282235424691\n",
      "u.s\t 452 \t1.4754847555004245\n",
      "war\t 449 \t1.4656917150878108\n",
      "court\t 444 \t1.4493699810667886\n",
      "market\t 436 \t1.4232552066331527\n"
     ]
    }
   ],
   "source": [
    "# extracting keywords using nltk\n",
    "from nltk.probability import FreqDist\n",
    "import itertools\n",
    "mp_freqdist = FreqDist(itertools.chain(*lemmatized_headlines))    \n",
    "top_15 = mp_freqdist.most_common(20)\n",
    "print(\"word \\t freq \\tprecentage\")\n",
    "for word in top_15:\n",
    "    print(f\"{word[0]}\\t {word[1]} \\t{100*word[1]/len(lemmatized_headlines)}\")           "
   ]
  },
  {
   "cell_type": "markdown",
   "metadata": {},
   "source": [
    "Again we see some changes in the order of the list and also some new words. We can see after lemmatization the word \"year\" has been added to both lists.(which weren't present the first time without lemmatization)"
   ]
  },
  {
   "cell_type": "markdown",
   "metadata": {},
   "source": [
    "### Checking the impact of Stemming on the keyword extracting ###\n",
    "It's like the previous time that we checked the impact of lemmatization on the keyword extracting but this time we check the impact of stemming."
   ]
  },
  {
   "cell_type": "code",
   "execution_count": 169,
   "metadata": {},
   "outputs": [],
   "source": [
    "# first we lemmatize the words\n",
    "from nltk.stem import PorterStemmer\n",
    "stemmer = PorterStemmer()\n",
    "stemmed_headlines = []\n",
    "for headline in word_tokenized_headlines_preprocessed:\n",
    "    stemmed_headline = [stemmer.stem(word) for word in headline]\n",
    "    stemmed_headlines.append(stemmed_headline)\n",
    "\n",
    "sentence_based_headlines_preprocessed_stemmed = [' '.join(words) for words in stemmed_headlines]\n",
    "\n",
    "with open('preprocessed/WSJ_headlines_preprocessed+stemming.json', 'w') as f:\n",
    "    json.dump(sentence_based_headlines_preprocessed_stemmed, f, indent=2)"
   ]
  },
  {
   "cell_type": "code",
   "execution_count": 170,
   "metadata": {},
   "outputs": [
    {
     "name": "stdout",
     "output_type": "stream",
     "text": [
      "('review', 0.0001626172076210421)\n",
      "('biden', 0.00018668509187819423)\n",
      "('china', 0.0001884732628628003)\n",
      "('trump', 0.0002212799327411785)\n",
      "('suprem court', 0.00025034172914849344)\n",
      "('million', 0.00027487075949987594)\n",
      "('bank', 0.0003191546058686829)\n",
      "('ukrain', 0.00036505371550856483)\n",
      "('stock', 0.00039424976984428375)\n",
      "('billion', 0.00041062822050082643)\n",
      "('deal', 0.0004168511095896556)\n",
      "('court', 0.00045395996525414846)\n",
      "('market', 0.0004686117350439172)\n",
      "('year', 0.00048719819417262773)\n",
      "('home', 0.0004912573000671582)\n",
      "('war', 0.0005048441176663198)\n",
      "('back', 0.0005455435447537779)\n",
      "('make', 0.0005506929911690878)\n",
      "('big', 0.000582690141004493)\n",
      "('russia', 0.0005946515877779938)\n"
     ]
    }
   ],
   "source": [
    "# extracting keywords using yake library\n",
    "concatenated_headlines_stemmed = ' '.join([''.join(sentence) for sentence in sentence_based_headlines_preprocessed_stemmed])\n",
    "keyword_extractor = yake.KeywordExtractor()\n",
    "keywords = keyword_extractor.extract_keywords(concatenated_headlines_stemmed)\n",
    "for keyword in keywords:\n",
    "    print(keyword)"
   ]
  },
  {
   "cell_type": "code",
   "execution_count": 171,
   "metadata": {},
   "outputs": [
    {
     "name": "stdout",
     "output_type": "stream",
     "text": [
      "word \t freq \tprecentage\n",
      "review\t 1411 \t4.605993340732519\n",
      "new\t 1390 \t4.537442057844225\n",
      "u.s.\t 1070 \t3.492851080498792\n",
      "china\t 1037 \t3.3851276359600444\n",
      "biden\t 996 \t3.2512894169876607\n",
      "trump\t 857 \t2.7975452112032384\n",
      "million\t 698 \t2.2785140693347263\n",
      "say\t 690 \t2.2523992949010903\n",
      "bank\t 612 \t1.997780244173141\n",
      "get\t 590 \t1.9259646144806424\n",
      "ukrain\t 589 \t1.922700267676438\n",
      "billion\t 537 \t1.752954233857805\n",
      "stock\t 528 \t1.7235751126199648\n",
      "deal\t 523 \t1.7072533785989423\n",
      "market\t 474 \t1.5473003851929228\n",
      "year\t 473 \t1.5440360383887184\n",
      "home\t 462 \t1.5081282235424691\n",
      "u.\t 452 \t1.4754847555004245\n",
      "make\t 450 \t1.4689560618920154\n",
      "war\t 450 \t1.4689560618920154\n"
     ]
    }
   ],
   "source": [
    "# extracting keywords using nltk\n",
    "from nltk.probability import FreqDist\n",
    "import itertools\n",
    "mp_freqdist = FreqDist(itertools.chain(*stemmed_headlines))    \n",
    "top_20 = mp_freqdist.most_common(20)\n",
    "print(\"word \\t freq \\tprecentage\")\n",
    "for word in top_20:\n",
    "    print(f\"{word[0]}\\t {word[1]} \\t{100*word[1]/len(stemmed_headlines)}\")           "
   ]
  },
  {
   "cell_type": "markdown",
   "metadata": {},
   "source": [
    "The impact of stemming does not seem to be that improving, although the general result is the same and most of the words are again present but we see some words that are stems of verbs like \"make\" which really does not seem to be an important keyword here. So overall we can say stemming maybe is not the best choice for this type of data when we want to do keyword extraction"
   ]
  },
  {
   "cell_type": "markdown",
   "metadata": {},
   "source": [
    "About the impact of lemmatization we cannot say for sure that it has improved or decreased the accuracy or quality of keyword extracting at least in the top 20 keywords that have been extracted. But if we want to compare the two libraries yake and nltk, it seems maybe yake library is a bit more powerful since it has extracted some keywords like \"supreme court\" which is a bigram."
   ]
  },
  {
   "cell_type": "markdown",
   "metadata": {},
   "source": [
    "### Sentiment Analysis for headlines since 2023/01/01 up to 2024/03/31 ###\n",
    "In this part we calculate the average sentiment positivity/negitivity for each months by taking the average of the scores for each single headline in that month. We also use the unprocessed data because removing stopwords here may have a massive change(for example 'is' and 'isn't' are both removed but can have a massive difference in sentiment analysis). we also do not use any stemming or lemmatization with the same reason. And also removing punctuations and lowering the letters does not have much impact on the final score. So we ignore all this and calculate sentiment analysis score fore unprocessed headlines using nltk library.\n"
   ]
  },
  {
   "cell_type": "code",
   "execution_count": 172,
   "metadata": {},
   "outputs": [
    {
     "name": "stderr",
     "output_type": "stream",
     "text": [
      "[nltk_data] Downloading package vader_lexicon to\n",
      "[nltk_data]     C:\\Users\\daniyal\\AppData\\Roaming\\nltk_data...\n",
      "[nltk_data]   Package vader_lexicon is already up-to-date!\n"
     ]
    },
    {
     "data": {
      "text/plain": [
       "True"
      ]
     },
     "execution_count": 172,
     "metadata": {},
     "output_type": "execute_result"
    }
   ],
   "source": [
    "from nltk.sentiment import SentimentIntensityAnalyzer\n",
    "nltk.download('vader_lexicon')"
   ]
  },
  {
   "cell_type": "code",
   "execution_count": 206,
   "metadata": {},
   "outputs": [],
   "source": [
    "from collections import defaultdict\n",
    "from datetime import datetime\n",
    "\n",
    "sia = SentimentIntensityAnalyzer()\n",
    "monthly_sentiment_scores = defaultdict(list)\n",
    "\n",
    "for entry in unprocessed_data:\n",
    "    date = datetime.strptime(entry['date'], \"%Y/%m/%d\")\n",
    "    month = date.strftime(\"%Y-%m\")\n",
    "    headlines = entry['headlines']\n",
    "    for headline in headlines:\n",
    "        title = headline['headline title']\n",
    "        sentiment_score = sia.polarity_scores(title)\n",
    "        monthly_sentiment_scores[month].append(sentiment_score['compound'])\n",
    "\n"
   ]
  },
  {
   "cell_type": "code",
   "execution_count": 209,
   "metadata": {},
   "outputs": [],
   "source": [
    "# Calculate average sentiment scores for each month\n",
    "average_monthly_sentiment_scores = {}\n",
    "for month, score_list in monthly_sentiment_scores.items():\n",
    "    num_headlines = len(score_list)\n",
    "    avg_score = sum(score for score in score_list) / num_headlines\n",
    "    average_monthly_sentiment_scores[month] = avg_score\n",
    "\n"
   ]
  },
  {
   "cell_type": "code",
   "execution_count": 210,
   "metadata": {},
   "outputs": [
    {
     "name": "stdout",
     "output_type": "stream",
     "text": [
      "Month: 2023-03, Average Sentiment Scores: -0.03392469941600822\n",
      "Month: 2023-04, Average Sentiment Scores: -0.02268209486166009\n",
      "Month: 2023-05, Average Sentiment Scores: -0.023120107238605848\n",
      "Month: 2023-06, Average Sentiment Scores: -0.016291821862348198\n",
      "Month: 2023-07, Average Sentiment Scores: -0.011575708678587005\n",
      "Month: 2023-08, Average Sentiment Scores: -0.027001294363256847\n",
      "Month: 2023-09, Average Sentiment Scores: -0.014126941855304028\n",
      "Month: 2023-10, Average Sentiment Scores: -0.046837817638266076\n",
      "Month: 2023-11, Average Sentiment Scores: -0.0025667260579064584\n",
      "Month: 2023-12, Average Sentiment Scores: -0.01928740157480317\n",
      "Month: 2024-01, Average Sentiment Scores: -0.02627663880334364\n",
      "Month: 2024-02, Average Sentiment Scores: 0.006555248618784563\n",
      "Month: 2024-03, Average Sentiment Scores: -0.018102807775377993\n"
     ]
    }
   ],
   "source": [
    "for month, avg_scores in average_monthly_sentiment_scores.items():\n",
    "    print(f\"Month: {month}, Average Sentiment Scores: {avg_scores}\")\n"
   ]
  },
  {
   "cell_type": "markdown",
   "metadata": {},
   "source": [
    "we can also visualize the results :"
   ]
  },
  {
   "cell_type": "code",
   "execution_count": 212,
   "metadata": {},
   "outputs": [
    {
     "data": {
      "image/png": "[encoded data removed]",
      "text/plain": [
       "<Figure size 1200x800 with 1 Axes>"
      ]
     },
     "metadata": {},
     "output_type": "display_data"
    }
   ],
   "source": [
    "import matplotlib.pyplot as plt\n",
    "\n",
    "months = list(average_monthly_sentiment_scores.keys())\n",
    "scores = list(average_monthly_sentiment_scores.values())\n",
    "\n",
    "plt.figure(figsize=(12, 8))\n",
    "plt.plot(months, scores, marker='o', linestyle='-')\n",
    "plt.title('Average Monthly Sentiment Scores')\n",
    "plt.xlabel('Month')\n",
    "plt.ylabel('Average Sentiment Score')\n",
    "plt.xticks(rotation=45)\n",
    "plt.grid(True)\n",
    "plt.tight_layout()\n",
    "plt.show()"
   ]
  },
  {
   "cell_type": "markdown",
   "metadata": {},
   "source": [
    "Usually the news are neutral (with a tendency to being negative) except the second month of 2024 which is slightly positive.\n",
    "A very interesting fact (which we could also predict) is that the lowest score for negativity of the news headlines for a month is the 10th month of 2023 which is the October-2023, the month that Israel-Hamas conflicts and war started and the world went into a shock! As we see we have a dramatic fall in the scores of the sentiment analysis of the news!"
   ]
  }
 ],
 "metadata": {
  "kernelspec": {
   "display_name": "Python 3",
   "language": "python",
   "name": "python3"
  },
  "language_info": {
   "codemirror_mode": {
    "name": "ipython",
    "version": 3
   },
   "file_extension": ".py",
   "mimetype": "text/x-python",
   "name": "python",
   "nbconvert_exporter": "python",
   "pygments_lexer": "ipython3",
   "version": "3.11.7"
  }
 },
 "nbformat": 4,
 "nbformat_minor": 2
}
